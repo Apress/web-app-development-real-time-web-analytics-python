{
 "cells": [
  {
   "cell_type": "markdown",
   "id": "76572937",
   "metadata": {},
   "source": [
    "# CHAPTER 11: INTEGRATING A MACHINE LEARNING ALGORITHM TO A WEB APP"
   ]
  },
  {
   "attachments": {},
   "cell_type": "markdown",
   "id": "7e6b654b",
   "metadata": {},
   "source": [
    "This chapter introduces an approach to integrate machine learning models. Initially, it will provide an overview of machine learning recognized as linear regression, including ways of preprocessing data and generating predictions. It concludes by exhibiting a technique of implementing it in web apps."
   ]
  },
  {
   "cell_type": "code",
   "execution_count": 1,
   "id": "060b6190",
   "metadata": {},
   "outputs": [
    {
     "name": "stderr",
     "output_type": "stream",
     "text": [
      "C:\\Users\\i5 lenov\\anaconda3\\lib\\site-packages\\numpy\\_distributor_init.py:32: UserWarning: loaded more than 1 DLL from .libs:\n",
      "C:\\Users\\i5 lenov\\anaconda3\\lib\\site-packages\\numpy\\.libs\\libopenblas.NOIJJG62EMASZI6NYURL6JBKM4EVBGM7.gfortran-win_amd64.dll\n",
      "C:\\Users\\i5 lenov\\anaconda3\\lib\\site-packages\\numpy\\.libs\\libopenblas.PYQHXLVVQ7VESDPUVUADXEVJOBGHJPAY.gfortran-win_amd64.dll\n",
      "  stacklevel=1)\n"
     ]
    },
    {
     "data": {
      "text/html": [
       "<div>\n",
       "<style scoped>\n",
       "    .dataframe tbody tr th:only-of-type {\n",
       "        vertical-align: middle;\n",
       "    }\n",
       "\n",
       "    .dataframe tbody tr th {\n",
       "        vertical-align: top;\n",
       "    }\n",
       "\n",
       "    .dataframe thead th {\n",
       "        text-align: right;\n",
       "    }\n",
       "</style>\n",
       "<table border=\"1\" class=\"dataframe\">\n",
       "  <thead>\n",
       "    <tr style=\"text-align: right;\">\n",
       "      <th></th>\n",
       "      <th>gdp_by_exp</th>\n",
       "      <th>cpi</th>\n",
       "      <th>m3</th>\n",
       "      <th>spot_crude_oil</th>\n",
       "      <th>rand</th>\n",
       "    </tr>\n",
       "    <tr>\n",
       "      <th>DATE</th>\n",
       "      <th></th>\n",
       "      <th></th>\n",
       "      <th></th>\n",
       "      <th></th>\n",
       "      <th></th>\n",
       "    </tr>\n",
       "  </thead>\n",
       "  <tbody>\n",
       "    <tr>\n",
       "      <th>2009-01-01</th>\n",
       "      <td>-1.718249</td>\n",
       "      <td>71.178127</td>\n",
       "      <td>13.831098</td>\n",
       "      <td>41.74</td>\n",
       "      <td>9.3000</td>\n",
       "    </tr>\n",
       "    <tr>\n",
       "      <th>2009-04-01</th>\n",
       "      <td>-2.801610</td>\n",
       "      <td>73.249160</td>\n",
       "      <td>9.774203</td>\n",
       "      <td>49.79</td>\n",
       "      <td>9.3705</td>\n",
       "    </tr>\n",
       "    <tr>\n",
       "      <th>2009-07-01</th>\n",
       "      <td>-2.963243</td>\n",
       "      <td>74.448179</td>\n",
       "      <td>5.931918</td>\n",
       "      <td>64.09</td>\n",
       "      <td>7.7356</td>\n",
       "    </tr>\n",
       "    <tr>\n",
       "      <th>2009-10-01</th>\n",
       "      <td>-2.881582</td>\n",
       "      <td>74.884186</td>\n",
       "      <td>3.194678</td>\n",
       "      <td>75.82</td>\n",
       "      <td>7.7040</td>\n",
       "    </tr>\n",
       "    <tr>\n",
       "      <th>2010-01-01</th>\n",
       "      <td>0.286515</td>\n",
       "      <td>75.320193</td>\n",
       "      <td>0.961220</td>\n",
       "      <td>78.22</td>\n",
       "      <td>7.3613</td>\n",
       "    </tr>\n",
       "  </tbody>\n",
       "</table>\n",
       "</div>"
      ],
      "text/plain": [
       "            gdp_by_exp        cpi         m3  spot_crude_oil    rand\n",
       "DATE                                                                \n",
       "2009-01-01   -1.718249  71.178127  13.831098           41.74  9.3000\n",
       "2009-04-01   -2.801610  73.249160   9.774203           49.79  9.3705\n",
       "2009-07-01   -2.963243  74.448179   5.931918           64.09  7.7356\n",
       "2009-10-01   -2.881582  74.884186   3.194678           75.82  7.7040\n",
       "2010-01-01    0.286515  75.320193   0.961220           78.22  7.3613"
      ]
     },
     "execution_count": 1,
     "metadata": {},
     "output_type": "execute_result"
    }
   ],
   "source": [
    "import pandas as pd\n",
    "df = pd.read_excel(r\"C:\\Users\\i5 lenov\\Desktop\\apress_source_code\\feature_selection_data.xlsx\",parse_dates=[0],index_col=[0])\n",
    "df.head()"
   ]
  },
  {
   "cell_type": "code",
   "execution_count": 2,
   "id": "d9c2782f",
   "metadata": {},
   "outputs": [],
   "source": [
    "df[\"gdp_by_exp\"] = df[\"gdp_by_exp\"].fillna(df[\"gdp_by_exp\"])\n",
    "df[\"cpi\"] = df[\"cpi\"].fillna(df[\"cpi\"])\n",
    "df[\"m3\"] = df[\"m3\"].fillna(df[\"m3\"])\n",
    "df[\"spot_crude_oil\"] = df[\"spot_crude_oil\"].fillna(df[\"spot_crude_oil\"])\n",
    "df[\"rand\"] = df[\"rand\"].fillna(df[\"rand\"])"
   ]
  },
  {
   "cell_type": "code",
   "execution_count": 3,
   "id": "ef00eca7",
   "metadata": {},
   "outputs": [],
   "source": [
    "x = df.iloc[::,0:4]\n",
    "y = df.iloc[::,-1]"
   ]
  },
  {
   "cell_type": "code",
   "execution_count": 4,
   "id": "8a734bf0",
   "metadata": {},
   "outputs": [],
   "source": [
    "from sklearn.model_selection import train_test_split\n",
    "x_train, x_test, y_train, y_test = train_test_split(x, y, test_size=0.2, random_state=0)"
   ]
  },
  {
   "cell_type": "code",
   "execution_count": 5,
   "id": "6fc53afe",
   "metadata": {},
   "outputs": [],
   "source": [
    "from sklearn.preprocessing import StandardScaler\n",
    "scaler = StandardScaler()\n",
    "x_train = scaler.fit_transform(x_train)\n",
    "x_test = scaler.transform(x_test)"
   ]
  },
  {
   "cell_type": "code",
   "execution_count": 6,
   "id": "78fa36c3",
   "metadata": {},
   "outputs": [
    {
     "data": {
      "text/plain": [
       "LinearRegression()"
      ]
     },
     "execution_count": 6,
     "metadata": {},
     "output_type": "execute_result"
    }
   ],
   "source": [
    "from sklearn.linear_model import LinearRegression\n",
    "linear_model = LinearRegression()\n",
    "linear_model.fit(x_train,y_train)"
   ]
  },
  {
   "cell_type": "code",
   "execution_count": 7,
   "id": "d2af2e22",
   "metadata": {},
   "outputs": [
    {
     "data": {
      "text/html": [
       "<div>\n",
       "<style scoped>\n",
       "    .dataframe tbody tr th:only-of-type {\n",
       "        vertical-align: middle;\n",
       "    }\n",
       "\n",
       "    .dataframe tbody tr th {\n",
       "        vertical-align: top;\n",
       "    }\n",
       "\n",
       "    .dataframe thead th {\n",
       "        text-align: right;\n",
       "    }\n",
       "</style>\n",
       "<table border=\"1\" class=\"dataframe\">\n",
       "  <thead>\n",
       "    <tr style=\"text-align: right;\">\n",
       "      <th></th>\n",
       "      <th>Predicted rand</th>\n",
       "    </tr>\n",
       "  </thead>\n",
       "  <tbody>\n",
       "    <tr>\n",
       "      <th>0</th>\n",
       "      <td>13.429235</td>\n",
       "    </tr>\n",
       "    <tr>\n",
       "      <th>1</th>\n",
       "      <td>7.260954</td>\n",
       "    </tr>\n",
       "    <tr>\n",
       "      <th>2</th>\n",
       "      <td>12.546308</td>\n",
       "    </tr>\n",
       "    <tr>\n",
       "      <th>3</th>\n",
       "      <td>13.163633</td>\n",
       "    </tr>\n",
       "    <tr>\n",
       "      <th>4</th>\n",
       "      <td>13.317925</td>\n",
       "    </tr>\n",
       "    <tr>\n",
       "      <th>5</th>\n",
       "      <td>13.658022</td>\n",
       "    </tr>\n",
       "    <tr>\n",
       "      <th>6</th>\n",
       "      <td>13.779957</td>\n",
       "    </tr>\n",
       "    <tr>\n",
       "      <th>7</th>\n",
       "      <td>14.433352</td>\n",
       "    </tr>\n",
       "    <tr>\n",
       "      <th>8</th>\n",
       "      <td>7.409901</td>\n",
       "    </tr>\n",
       "    <tr>\n",
       "      <th>9</th>\n",
       "      <td>7.688201</td>\n",
       "    </tr>\n",
       "  </tbody>\n",
       "</table>\n",
       "</div>"
      ],
      "text/plain": [
       "   Predicted rand\n",
       "0       13.429235\n",
       "1        7.260954\n",
       "2       12.546308\n",
       "3       13.163633\n",
       "4       13.317925\n",
       "5       13.658022\n",
       "6       13.779957\n",
       "7       14.433352\n",
       "8        7.409901\n",
       "9        7.688201"
      ]
     },
     "execution_count": 7,
     "metadata": {},
     "output_type": "execute_result"
    }
   ],
   "source": [
    "y_pred = pd.DataFrame(linear_model.predict(x_test),\n",
    "                      columns=[\"Predicted rand\"])\n",
    "y_pred"
   ]
  }
 ],
 "metadata": {
  "kernelspec": {
   "display_name": "Python 3",
   "language": "python",
   "name": "python3"
  },
  "language_info": {
   "codemirror_mode": {
    "name": "ipython",
    "version": 3
   },
   "file_extension": ".py",
   "mimetype": "text/x-python",
   "name": "python",
   "nbconvert_exporter": "python",
   "pygments_lexer": "ipython3",
   "version": "3.7.6"
  }
 },
 "nbformat": 4,
 "nbformat_minor": 5
}
