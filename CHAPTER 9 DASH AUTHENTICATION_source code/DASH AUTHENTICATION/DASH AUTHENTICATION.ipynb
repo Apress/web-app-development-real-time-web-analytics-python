{
 "cells": [
  {
   "cell_type": "code",
   "execution_count": null,
   "id": "d0d5b068",
   "metadata": {},
   "outputs": [],
   "source": [
    "import dash\n",
    "import dash_auth\n",
    "import dash_html_components as html\n",
    "user_details = [\n",
    "    [\"Tshepo\", \"Tshepo!Password!#$897\"]\n",
    "]\n",
    "external_stylesheets = ['https://codepen.io/chriddyp/pen/bWLwgP.css']\n",
    "app = dash.Dash(__name__, external_stylesheets=external_stylesheets)\n",
    "auth = dash_auth.BasicAuth(\n",
    "    app,\n",
    "    user_details\n",
    ")\n",
    "app.layout = html.Div(\n",
    "    [\n",
    "        html.P(\"Login sucessful\")\n",
    "    ],\n",
    "    className = \"container\")\n",
    "app.scripts.config.serve_locally = True\n",
    "if __name__ == '__main__':\n",
    "    app.run_server(debug=False)"
   ]
  },
  {
   "cell_type": "code",
   "execution_count": null,
   "id": "d0521a25",
   "metadata": {},
   "outputs": [],
   "source": []
  }
 ],
 "metadata": {
  "kernelspec": {
   "display_name": "Python 3",
   "language": "python",
   "name": "python3"
  },
  "language_info": {
   "codemirror_mode": {
    "name": "ipython",
    "version": 3
   },
   "file_extension": ".py",
   "mimetype": "text/x-python",
   "name": "python",
   "nbconvert_exporter": "python",
   "pygments_lexer": "ipython3",
   "version": "3.7.6"
  }
 },
 "nbformat": 4,
 "nbformat_minor": 5
}
